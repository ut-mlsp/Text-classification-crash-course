{
 "cells": [
  {
   "cell_type": "code",
   "execution_count": 1,
   "metadata": {},
   "outputs": [],
   "source": [
    "import pandas\n",
    "import string\n",
    "from hazm import word_tokenize, stopwords_list\n",
    "from sklearn.naive_bayes import MultinomialNB\n",
    "from sklearn.feature_extraction.text import CountVectorizer\n",
    "from sklearn.model_selection import cross_val_score\n",
    "from warnings import filterwarnings\n",
    "\n",
    "filterwarnings('ignore')"
   ]
  },
  {
   "cell_type": "markdown",
   "metadata": {},
   "source": [
    "# Import dataset and print its 5 first rows:"
   ]
  },
  {
   "cell_type": "code",
   "execution_count": 2,
   "metadata": {},
   "outputs": [
    {
     "data": {
      "text/html": [
       "<div>\n",
       "<style scoped>\n",
       "    .dataframe tbody tr th:only-of-type {\n",
       "        vertical-align: middle;\n",
       "    }\n",
       "\n",
       "    .dataframe tbody tr th {\n",
       "        vertical-align: top;\n",
       "    }\n",
       "\n",
       "    .dataframe thead th {\n",
       "        text-align: right;\n",
       "    }\n",
       "</style>\n",
       "<table border=\"1\" class=\"dataframe\">\n",
       "  <thead>\n",
       "    <tr style=\"text-align: right;\">\n",
       "      <th></th>\n",
       "      <th>archive_by_user</th>\n",
       "      <th>brand</th>\n",
       "      <th>cat1</th>\n",
       "      <th>cat2</th>\n",
       "      <th>cat3</th>\n",
       "      <th>city</th>\n",
       "      <th>created_at</th>\n",
       "      <th>desc</th>\n",
       "      <th>id</th>\n",
       "      <th>image_count</th>\n",
       "      <th>mileage</th>\n",
       "      <th>platform</th>\n",
       "      <th>price</th>\n",
       "      <th>title</th>\n",
       "      <th>type</th>\n",
       "      <th>year</th>\n",
       "    </tr>\n",
       "  </thead>\n",
       "  <tbody>\n",
       "    <tr>\n",
       "      <th>0</th>\n",
       "      <td>False</td>\n",
       "      <td>NaN</td>\n",
       "      <td>for-the-home</td>\n",
       "      <td>furniture-and-home-decore</td>\n",
       "      <td>sofa-armchair</td>\n",
       "      <td>Tehran</td>\n",
       "      <td>Tuesday 07PM</td>\n",
       "      <td>کلاسیک و شیک و استثنایی\\nچرم مالزی\\nچوب راش\\nف...</td>\n",
       "      <td>5.476164e+13</td>\n",
       "      <td>5.0</td>\n",
       "      <td>NaN</td>\n",
       "      <td>mobile</td>\n",
       "      <td>3850000.0</td>\n",
       "      <td>ست مبلمان و نهارخوری ٩ نفره</td>\n",
       "      <td>NaN</td>\n",
       "      <td>NaN</td>\n",
       "    </tr>\n",
       "    <tr>\n",
       "      <th>1</th>\n",
       "      <td>False</td>\n",
       "      <td>NaN</td>\n",
       "      <td>for-the-home</td>\n",
       "      <td>furniture-and-home-decore</td>\n",
       "      <td>antiques-and-art</td>\n",
       "      <td>Mashhad</td>\n",
       "      <td>Tuesday 07PM</td>\n",
       "      <td>سلام,یک عدد گلدون نخل سه طبقه ی سالم دارم با پ...</td>\n",
       "      <td>4.272763e+13</td>\n",
       "      <td>1.0</td>\n",
       "      <td>NaN</td>\n",
       "      <td>mobile</td>\n",
       "      <td>30000.0</td>\n",
       "      <td>گلدون مصنوعی نخل</td>\n",
       "      <td>NaN</td>\n",
       "      <td>NaN</td>\n",
       "    </tr>\n",
       "    <tr>\n",
       "      <th>2</th>\n",
       "      <td>False</td>\n",
       "      <td>NaN</td>\n",
       "      <td>vehicles</td>\n",
       "      <td>cars</td>\n",
       "      <td>heavy</td>\n",
       "      <td>Mashhad</td>\n",
       "      <td>Tuesday 07PM</td>\n",
       "      <td>سریال 43j$NUMبدون شکستگی سه حلقه لاستیک نو یک ...</td>\n",
       "      <td>6.319444e+13</td>\n",
       "      <td>4.0</td>\n",
       "      <td>NaN</td>\n",
       "      <td>mobile</td>\n",
       "      <td>-1.0</td>\n",
       "      <td>لودر کاتر پیلار 950</td>\n",
       "      <td>NaN</td>\n",
       "      <td>NaN</td>\n",
       "    </tr>\n",
       "    <tr>\n",
       "      <th>3</th>\n",
       "      <td>False</td>\n",
       "      <td>NaN</td>\n",
       "      <td>for-the-home</td>\n",
       "      <td>furniture-and-home-decore</td>\n",
       "      <td>sofa-armchair</td>\n",
       "      <td>Tehran</td>\n",
       "      <td>Tuesday 07PM</td>\n",
       "      <td>مبل راحتی هفت نفره شامل سه نفره یک عدد دونفره ...</td>\n",
       "      <td>1.913303e+13</td>\n",
       "      <td>4.0</td>\n",
       "      <td>NaN</td>\n",
       "      <td>mobile</td>\n",
       "      <td>600000.0</td>\n",
       "      <td>مبل راحتی هفت نفره بامیز جلو مبلی</td>\n",
       "      <td>NaN</td>\n",
       "      <td>NaN</td>\n",
       "    </tr>\n",
       "    <tr>\n",
       "      <th>4</th>\n",
       "      <td>False</td>\n",
       "      <td>NaN</td>\n",
       "      <td>personal</td>\n",
       "      <td>baby-and-toys</td>\n",
       "      <td>personal-toys</td>\n",
       "      <td>Karaj</td>\n",
       "      <td>Tuesday 08PM</td>\n",
       "      <td>شارژی کنترلی سویچ حمل تا 35 کیلو صندلی برای دو...</td>\n",
       "      <td>5.899900e+13</td>\n",
       "      <td>2.0</td>\n",
       "      <td>NaN</td>\n",
       "      <td>mobile</td>\n",
       "      <td>450000.0</td>\n",
       "      <td>ماشین شارژی</td>\n",
       "      <td>NaN</td>\n",
       "      <td>NaN</td>\n",
       "    </tr>\n",
       "  </tbody>\n",
       "</table>\n",
       "</div>"
      ],
      "text/plain": [
       "  archive_by_user brand          cat1                       cat2  \\\n",
       "0           False   NaN  for-the-home  furniture-and-home-decore   \n",
       "1           False   NaN  for-the-home  furniture-and-home-decore   \n",
       "2           False   NaN      vehicles                       cars   \n",
       "3           False   NaN  for-the-home  furniture-and-home-decore   \n",
       "4           False   NaN      personal              baby-and-toys   \n",
       "\n",
       "               cat3     city    created_at  \\\n",
       "0     sofa-armchair   Tehran  Tuesday 07PM   \n",
       "1  antiques-and-art  Mashhad  Tuesday 07PM   \n",
       "2             heavy  Mashhad  Tuesday 07PM   \n",
       "3     sofa-armchair   Tehran  Tuesday 07PM   \n",
       "4     personal-toys    Karaj  Tuesday 08PM   \n",
       "\n",
       "                                                desc            id  \\\n",
       "0  کلاسیک و شیک و استثنایی\\nچرم مالزی\\nچوب راش\\nف...  5.476164e+13   \n",
       "1  سلام,یک عدد گلدون نخل سه طبقه ی سالم دارم با پ...  4.272763e+13   \n",
       "2  سریال 43j$NUMبدون شکستگی سه حلقه لاستیک نو یک ...  6.319444e+13   \n",
       "3  مبل راحتی هفت نفره شامل سه نفره یک عدد دونفره ...  1.913303e+13   \n",
       "4  شارژی کنترلی سویچ حمل تا 35 کیلو صندلی برای دو...  5.899900e+13   \n",
       "\n",
       "   image_count  mileage platform      price  \\\n",
       "0          5.0      NaN   mobile  3850000.0   \n",
       "1          1.0      NaN   mobile    30000.0   \n",
       "2          4.0      NaN   mobile       -1.0   \n",
       "3          4.0      NaN   mobile   600000.0   \n",
       "4          2.0      NaN   mobile   450000.0   \n",
       "\n",
       "                               title type year  \n",
       "0        ست مبلمان و نهارخوری ٩ نفره  NaN  NaN  \n",
       "1                   گلدون مصنوعی نخل  NaN  NaN  \n",
       "2                لودر کاتر پیلار 950  NaN  NaN  \n",
       "3  مبل راحتی هفت نفره بامیز جلو مبلی  NaN  NaN  \n",
       "4                        ماشین شارژی  NaN  NaN  "
      ]
     },
     "execution_count": 2,
     "metadata": {},
     "output_type": "execute_result"
    }
   ],
   "source": [
    "data = pandas.read_csv('divar_posts_dataset.csv', index_col=0)\n",
    "data.head()"
   ]
  },
  {
   "cell_type": "markdown",
   "metadata": {},
   "source": [
    "# Concatenate \"cat\" columns for using in classifier algorithm"
   ]
  },
  {
   "cell_type": "code",
   "execution_count": 3,
   "metadata": {},
   "outputs": [],
   "source": [
    "data['cat1'] = data['cat1'].fillna('na')\n",
    "data['cat2'] = data['cat2'].fillna('na')\n",
    "data['cat3'] = data['cat3'].fillna('na')\n",
    "data['desc'] = data['desc'].fillna('')\n",
    "data['title'] = data['title'].fillna('')\n",
    "data['cats'] = data.cat1 + '_' + data.cat2 + '_' + data.cat3"
   ]
  },
  {
   "cell_type": "markdown",
   "metadata": {},
   "source": [
    "# A function for preprocessing persian text\n",
    "Usually people won't insert spaces between a word and a digit, or between a Persian word and a English one.\n",
    "This function fixes this cases in our text."
   ]
  },
  {
   "cell_type": "code",
   "execution_count": 4,
   "metadata": {},
   "outputs": [],
   "source": [
    "def separator(elem, start=1):\n",
    "    latin = string.ascii_lowercase + string.digits + '$'\n",
    "    for ind in range(start, len(elem)):\n",
    "        if elem[ind] == ' ':\n",
    "            continue\n",
    "        a = elem[ind-1] in latin\n",
    "        b = elem[ind] in latin\n",
    "        if a != b:\n",
    "            return separator(elem[:ind] + ' ' + elem[ind:], ind + 2)\n",
    "    return elem"
   ]
  },
  {
   "cell_type": "markdown",
   "metadata": {},
   "source": [
    "# Vectorizing the text\n",
    "Now, we vectorize the text with count vectorizer described in slides. We set the size of the vocabulary to 110K (a manually tuned number)."
   ]
  },
  {
   "cell_type": "code",
   "execution_count": 5,
   "metadata": {},
   "outputs": [],
   "source": [
    "vectorizer = CountVectorizer(preprocessor=separator,\n",
    "                             tokenizer=word_tokenize, stop_words=stopwords_list(),\n",
    "                             max_features=110000)\n",
    "counts = vectorizer.fit_transform(data.title.values)"
   ]
  },
  {
   "cell_type": "markdown",
   "metadata": {},
   "source": [
    "# Classifying using naive Bayes classifier\n",
    "We'll use cross validation to measure the accuracy of our model. Lidstone/Laplace smoothing parameter set to 0.06 (should be manually tuned :D)."
   ]
  },
  {
   "cell_type": "code",
   "execution_count": 6,
   "metadata": {},
   "outputs": [
    {
     "name": "stdout",
     "output_type": "stream",
     "text": [
      "Average accuracy of the model using 5-fold cross validaion: 0.808474\n"
     ]
    }
   ],
   "source": [
    "classifier = MultinomialNB(alpha=0.06, fit_prior=False)\n",
    "targets = data.cats.values\n",
    "scores = cross_val_score(classifier, counts, targets, cv=5, n_jobs=-1)\n",
    "print('Average accuracy of the model using 5-fold cross validaion: %f' % scores.mean())"
   ]
  }
 ],
 "metadata": {
  "kernelspec": {
   "display_name": "Python 3",
   "language": "python",
   "name": "python3"
  },
  "language_info": {
   "codemirror_mode": {
    "name": "ipython",
    "version": 3
   },
   "file_extension": ".py",
   "mimetype": "text/x-python",
   "name": "python",
   "nbconvert_exporter": "python",
   "pygments_lexer": "ipython3",
   "version": "3.6.8"
  }
 },
 "nbformat": 4,
 "nbformat_minor": 2
}
